{
 "cells": [
  {
   "cell_type": "markdown",
   "id": "2ae40c2e",
   "metadata": {
    "id": "2ae40c2e"
   },
   "source": [
    "# CNN-ripple\n",
    "\n",
    "__CNN-ripple__ is a 1D convolutional neural network (CNN) operating over high-density LFP recordings to detect hippocampal SWR both offline and online.  It works with recordings from several types of recordings (e.g. linear arrays, high-density probes, ultradense Neuropixels) as well as on open databases that were not used for training. Moreover, __CNN-ripple__ can be used to detect SWRs in real time, by loading it our [custom plug-in](https://github.com/RoyVII/CNNRippleDetectorOEPlugin) to the widely used open system such [Open Ephys](https://open-ephys.org/).\n",
    "\n",
    "\n",
    "This notebook illustrates one example of sharp-wave ripple detection with __CNN-ripple__. Follow and execute each block to download data and to load the trained CNN. Detection of events and the plot are depicted at the end of the notebook. You will be able to scroll along the recording to visualize detected events."
   ]
  },
  {
   "cell_type": "code",
   "execution_count": null,
   "id": "7yJI03PaCWVA",
   "metadata": {
    "id": "7yJI03PaCWVA"
   },
   "outputs": [],
   "source": [
    "#@title **CNN-ripple download and setup** { display-mode: \"form\" }\n",
    "#@markdown Run this cell to download __CNN-ripple__ code and model (might take some time).\n",
    "\n",
    "%%capture install\n",
    "%%bash\n",
    "git clone https://github.com/RoyVII/cnn-ripple.git"
   ]
  },
  {
   "cell_type": "code",
   "execution_count": null,
   "id": "0iBe7HSF4tYS",
   "metadata": {
    "id": "0iBe7HSF4tYS"
   },
   "outputs": [],
   "source": [
    "# Imports\n",
    "import sys\n",
    "import numpy as np\n",
    "\n",
    "%cd /content/cnn-ripple/src/notebooks\n",
    "\n",
    "sys.path.insert(1, '/content/cnn-ripple/src/cnn/');"
   ]
  },
  {
   "cell_type": "markdown",
   "id": "9114ff39",
   "metadata": {
    "id": "9114ff39"
   },
   "source": [
    "## Download data\n",
    "\n",
    "Downloads data from a Figshare repository. Example data can be found with articles IDs:\n",
    "- [Thy7_2020-11-11_16-05-00](https://figshare.com/articles/dataset/Thy7_2020-11-11_16-05-00/14960085): 14960085\n",
    "- [Dlx1_2021-02-12_12-46-54](https://figshare.com/articles/dataset/Dlx1_2021-02-12_12-46-54/14959449): 14959449\n",
    "\n",
    "*If you have your own data you can skip this step.*"
   ]
  },
  {
   "cell_type": "code",
   "execution_count": null,
   "id": "64e35bf2",
   "metadata": {
    "id": "64e35bf2"
   },
   "outputs": [],
   "source": [
    "import os\n",
    "sys.path.insert(1, '/content/cnn-ripple/figshare')\n",
    "from figshare import Figshare\n",
    "\n",
    "fshare = Figshare()\n",
    "\n",
    "article_id = 14960085 # This is the ID of the data repository\n",
    "\n",
    "datapath = \"figshare_%d\"%(article_id)\n",
    "\n",
    "if os.path.isdir(datapath):\n",
    "    print(\"Data already exists. Moving on.\")\n",
    "else:\n",
    "    print(\"Downloading data... Please wait\")\n",
    "    fshare.retrieve_files_from_article(article_id)\n",
    "    print(\"Data downloaded!\")"
   ]
  },
  {
   "cell_type": "markdown",
   "id": "3f6bcd35",
   "metadata": {
    "id": "3f6bcd35"
   },
   "source": [
    "## Load data\n",
    "\n",
    "Loads data from the path specified in *datapath*. \n",
    "\n",
    "If you are using **your own data** please replace this code with your own methods to load it. By the end of this cell, loaded data must comply with the following conditions:\n",
    "- It has to be a 2D numpy matrix (numpy.darray) with dimensions **(Number of samples x Number of channels)**.\n",
    "- Number of channels has to be 8 (corresponding to a shank).\n",
    "- The variable containing the loaded data must be named **loaded_data**.\n",
    "- Data sampling rate must be saved in a variable named **fs** (in Hz)."
   ]
  },
  {
   "cell_type": "code",
   "execution_count": null,
   "id": "ef0688bc",
   "metadata": {
    "id": "ef0688bc"
   },
   "outputs": [],
   "source": [
    "'''''''''''''''''\n",
    "Load data from the figshare files\n",
    "'''''''''''''''''\n",
    "\n",
    "from load_data import load_data\n",
    "\n",
    "shank = 1\n",
    "\n",
    "# Load data\n",
    "print(\"Loading data...\", end=\" \")\n",
    "loaded_data, fs = load_data(path=datapath, shank=shank)\n",
    "print(\"Done!\")\n",
    "\n",
    "print(\"Shape of loaded data: \", np.shape(loaded_data))"
   ]
  },
  {
   "cell_type": "code",
   "execution_count": null,
   "id": "5ad771b7",
   "metadata": {
    "id": "5ad771b7"
   },
   "outputs": [],
   "source": [
    "'''''''''''''''''\n",
    "If you have your \n",
    "own data use this \n",
    "cell to load it\n",
    "'''''''''''''''''"
   ]
  },
  {
   "cell_type": "markdown",
   "id": "297f015a",
   "metadata": {
    "id": "297f015a"
   },
   "source": [
    "Loaded data will be downsampled to **1250 Hz** and then normalized using **z-score** by channels. Afterwards, it will separated into **12.8 ms** windows that will be the input for the CNN. By default, these windows will have an **overlapping of 6.4 ms** between them. Overlapping can be avoided by setting the *overlapping* variable to *False*."
   ]
  },
  {
   "cell_type": "code",
   "execution_count": null,
   "id": "56d13c49",
   "metadata": {
    "id": "56d13c49"
   },
   "outputs": [],
   "source": [
    "from load_data import z_score_normalization, downsample_data\n",
    "# Downsample data\n",
    "downsampled_fs = 1250\n",
    "print(\"Downsampling data from %d Hz to %d Hz...\"%(fs, downsampled_fs), end=\" \")\n",
    "data = downsample_data(loaded_data, fs, downsampled_fs)\n",
    "print(\"Done!\")\n",
    "\n",
    "# Normalize it with z-score\n",
    "print(\"Normalizing data...\", end=\" \")\n",
    "data = z_score_normalization(data)\n",
    "print(\"Done!\")\n",
    "\n",
    "print(\"Shape of loaded data after downsampling and z-score: \", np.shape(data))"
   ]
  },
  {
   "cell_type": "code",
   "execution_count": null,
   "id": "e4b04658",
   "metadata": {
    "id": "e4b04658"
   },
   "outputs": [],
   "source": [
    "overlapping = True\n",
    "window_size = 0.0128\n",
    "\n",
    "print(\"Generating windows...\", end=\" \")\n",
    "if overlapping:\n",
    "    from load_data import generate_overlapping_windows\n",
    "    \n",
    "    stride = 0.0064\n",
    "\n",
    "    # Separate the data into 12.8ms windows with 6.4ms overlapping\n",
    "    X = generate_overlapping_windows(data, window_size, stride, downsampled_fs)\n",
    "else:\n",
    "    stride = window_size\n",
    "    X = np.expand_dims(data, 0)\n",
    "print(\"Done!\")"
   ]
  },
  {
   "cell_type": "markdown",
   "id": "21292635",
   "metadata": {
    "id": "21292635"
   },
   "source": [
    "## Load trained CNN model"
   ]
  },
  {
   "cell_type": "code",
   "execution_count": null,
   "id": "5c2488b7",
   "metadata": {
    "id": "5c2488b7"
   },
   "outputs": [],
   "source": [
    "import tensorflow.keras.backend as K\n",
    "import tensorflow.keras as kr\n",
    "\n",
    "print(\"Loading CNN model...\", end=\" \")\n",
    "optimizer = kr.optimizers.Adam(learning_rate=0.001, beta_1=0.9, beta_2=0.999, epsilon=1e-07, amsgrad=False)\n",
    "model = kr.models.load_model(\"../../model\", compile=False)\n",
    "model.compile(loss=\"binary_crossentropy\", optimizer=optimizer)\n",
    "\n",
    "print(\"Done!\")"
   ]
  },
  {
   "cell_type": "markdown",
   "id": "f0e85e2c",
   "metadata": {
    "id": "f0e85e2c"
   },
   "source": [
    "## Detecting ripples with CNN model\n",
    "\n",
    "The CNN will make a prediction for every window. This consists in a **number between 0 and 1**, representing the **probability** of a ripple being in that window according to the CNN."
   ]
  },
  {
   "cell_type": "code",
   "execution_count": null,
   "id": "49e688f3",
   "metadata": {
    "id": "49e688f3"
   },
   "outputs": [],
   "source": [
    "print(\"Detecting ripples...\", end=\" \")\n",
    "predictions = model.predict(X, verbose=True)\n",
    "print(\"Done!\")"
   ]
  },
  {
   "cell_type": "markdown",
   "id": "f60e5b8e",
   "metadata": {
    "id": "f60e5b8e"
   },
   "source": [
    "### Get detected ripples and times\n",
    "\n",
    "Gets the detected ripples times, both in seconds and in indexes of the downsampled data array. The resulting times are a 2D numpy array with dimensions **(Number of detections x 2)**, having the starting and ending times for each detection.\n",
    "\n",
    "It will consider as a ripple detection all those windows whose associated probability is **over a given threshold**. This threshold can be changed by the user and can vary from one session to another. With a high threshold it will consider only those events that the CNN strongly believes to be ripples, but some other may be left aside. A lower threshold will capture more events, but maybe some of them will not be really ripples."
   ]
  },
  {
   "cell_type": "code",
   "execution_count": null,
   "id": "6510db6b",
   "metadata": {
    "id": "6510db6b"
   },
   "outputs": [],
   "source": [
    "from format_predictions import get_predictions_indexes\n",
    "\n",
    "# This threshold can be changed\n",
    "threshold = 0.7\n",
    "\n",
    "print(\"Getting detected ripples indexes and times...\", end=\" \")\n",
    "pred_indexes = get_predictions_indexes(data, predictions, window_size=window_size, stride=stride, fs=downsampled_fs, threshold=threshold)\n",
    "\n",
    "pred_times = pred_indexes / downsampled_fs\n",
    "print(\"Done!\")"
   ]
  },
  {
   "cell_type": "markdown",
   "id": "bedfd913",
   "metadata": {
    "id": "bedfd913"
   },
   "source": [
    "### Plot ripple detections\n",
    "\n"
   ]
  },
  {
   "cell_type": "code",
   "execution_count": null,
   "id": "4Ym4RRZ3Oo6X",
   "metadata": {
    "cellView": "form",
    "id": "4Ym4RRZ3Oo6X"
   },
   "outputs": [],
   "source": [
    "#@markdown This is an interactive plot of the loaded data, where detected ripples are shown in blue. Data is displayed in chunks of 1 seconds and you can **move forward, backwards or jump to an specific second** using the control bar at the bottom.\\\n",
    "#@markdown \\\n",
    "#@markdown Run this cell to load the plotting method. Execute the **following** cell to use the method.\n",
    "\n",
    "import matplotlib.pyplot as plt\n",
    "\n",
    "def plot_ripples(k):\n",
    "  data_size = data.shape[0]\n",
    "  data_dur = data_size / downsampled_fs\n",
    "  times = np.arange(data_size) / downsampled_fs\n",
    "\n",
    "  if k >= times[-1]:\n",
    "    printf(\"Data is only %ds long!\"%(times[-1]))\n",
    "    return\n",
    "  elif k < 0:\n",
    "    print(\"Please introduce a valid integer.\")\n",
    "    return\n",
    "\n",
    "  ini_idx = int(k * downsampled_fs)\n",
    "  end_idx = np.minimum(int((k+1) * downsampled_fs), data_size-1)\n",
    "\n",
    "\n",
    "  pos_mat = list(range(data.shape[1]-1, -1, -1)) * np.ones((end_idx-ini_idx, data.shape[1]))\n",
    "\n",
    "  fig = plt.figure(figsize=(9.75,5))\n",
    "  ax = fig.add_subplot(1, 1, 1)\n",
    "  ax.set_ylim(-3, 9)\n",
    "  ax.margins(x=0)\n",
    "  plt.tight_layout()\n",
    "  plt.xlabel(\"Time (s)\")\n",
    "\n",
    "\n",
    "  lines = ax.plot(times[ini_idx:end_idx], data[ini_idx:end_idx, :]*1/np.max(data[ini_idx:end_idx, :], axis=0) + pos_mat, color='k', linewidth=1)\n",
    "\n",
    "  fills = []\n",
    "  for pred in pred_indexes:\n",
    "      if (pred[0] >= ini_idx and pred[0] <= end_idx) or (pred[1] >= ini_idx and pred[1] <= end_idx):\n",
    "          rip_ini = (pred[0]) / downsampled_fs\n",
    "          rip_end = (pred[1]) / downsampled_fs\n",
    "          fill = ax.fill_between([rip_ini, rip_end], [-3, -3], [9, 9], color=\"tab:blue\", alpha=0.3)\n",
    "          fills.append(fill)\n",
    "\n",
    "  plt.show()\n",
    "\n",
    "print(\"Loaded!\")"
   ]
  },
  {
   "cell_type": "code",
   "execution_count": null,
   "id": "Tzjyo7wa0CN-",
   "metadata": {
    "id": "Tzjyo7wa0CN-"
   },
   "outputs": [],
   "source": [
    "#@title Time (in seconds) { run: \"auto\", vertical-output: true, display-mode: \"form\" }\n",
    "second =  0#@param {type:\"integer\"}\n",
    "\n",
    "plot_ripples(second)"
   ]
  }
 ],
 "metadata": {
  "colab": {
   "name": "cnn-example.ipynb",
   "provenance": []
  },
  "kernelspec": {
   "display_name": "Python 3",
   "language": "python",
   "name": "python3"
  },
  "language_info": {
   "codemirror_mode": {
    "name": "ipython",
    "version": 3
   },
   "file_extension": ".py",
   "mimetype": "text/x-python",
   "name": "python",
   "nbconvert_exporter": "python",
   "pygments_lexer": "ipython3",
   "version": "3.7.9"
  }
 },
 "nbformat": 4,
 "nbformat_minor": 5
}
