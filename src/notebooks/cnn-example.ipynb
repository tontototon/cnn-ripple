{
 "cells": [
  {
   "cell_type": "markdown",
   "id": "2ae40c2e",
   "metadata": {},
   "source": [
    "# CNN example\n",
    "\n",
    "Some code to show how the CNN finds ripples."
   ]
  },
  {
   "cell_type": "code",
   "execution_count": null,
   "id": "9576a607",
   "metadata": {},
   "outputs": [],
   "source": [
    "# Imports\n",
    "import sys\n",
    "import numpy as np\n",
    "\n",
    "sys.path.insert(1, '../cnn/')"
   ]
  },
  {
   "cell_type": "markdown",
   "id": "9114ff39",
   "metadata": {},
   "source": [
    "## Download data\n",
    "\n",
    "Downloads data from a Figshare repository. Example data can be found with articles IDs:\n",
    "- [Thy7_2020-11-11_16-05-00](https://figshare.com/articles/dataset/Thy7_2020-11-11_16-05-00/14960085): 14960085\n",
    "- [Dlx1_2021-02-12_12-46-54](https://figshare.com/articles/dataset/Dlx1_2021-02-12_12-46-54/14959449): 14959449\n",
    "\n",
    "*If you have your own data you can skip this step.*"
   ]
  },
  {
   "cell_type": "code",
   "execution_count": null,
   "id": "64e35bf2",
   "metadata": {},
   "outputs": [],
   "source": [
    "import os\n",
    "sys.path.insert(1, '../../figshare')\n",
    "from figshare import Figshare\n",
    "\n",
    "fshare = Figshare()\n",
    "\n",
    "article_id = 14960085 # This is the ID of the data repository\n",
    "\n",
    "datapath = \"figshare_%d\"%(article_id)\n",
    "\n",
    "if os.path.isdir(datapath):\n",
    "    print(\"Data already exists. Moving on.\")\n",
    "else:\n",
    "    print(\"Downloading data... Please wait\")\n",
    "    fshare.retrieve_files_from_article(article_id)\n",
    "    print(\"Data downloaded!\")\n"
   ]
  },
  {
   "cell_type": "markdown",
   "id": "3f6bcd35",
   "metadata": {},
   "source": [
    "## Load data\n",
    "\n",
    "Loads data from the path specified in *datapath*. \n",
    "\n",
    "If you are using **your own data** please replace this code with your own methods to load it. By the end of this cell, loaded data must comply with the following conditions:\n",
    "- It has to be a 2D numpy matrix (numpy.darray) with dimensions **(Number of samples x Number of channels)**.\n",
    "- Number of channels has to be 8 (corresponding to a shank).\n",
    "- The variable containing the loaded data must be named **loaded_data**.\n",
    "- Data sampling rate must be saved in a variable named **fs** (in Hz)."
   ]
  },
  {
   "cell_type": "code",
   "execution_count": null,
   "id": "ef0688bc",
   "metadata": {},
   "outputs": [],
   "source": [
    "'''''''''''''''''\n",
    "Load data from the figshare files\n",
    "'''''''''''''''''\n",
    "\n",
    "from load_data import load_data\n",
    "\n",
    "shank = 1\n",
    "\n",
    "# Load data\n",
    "print(\"Loading data...\", end=\" \")\n",
    "loaded_data, fs = load_data(path=datapath, shank=shank)\n",
    "print(\"Done!\")\n",
    "\n",
    "print(\"Shape of loaded data: \", np.shape(loaded_data))"
   ]
  },
  {
   "cell_type": "code",
   "execution_count": null,
   "id": "5ad771b7",
   "metadata": {},
   "outputs": [],
   "source": [
    "'''''''''''''''''\n",
    "If you have your \n",
    "own data use this \n",
    "cell to load it\n",
    "'''''''''''''''''"
   ]
  },
  {
   "cell_type": "markdown",
   "id": "297f015a",
   "metadata": {},
   "source": [
    "Loaded data will be downsampled to **1250 Hz** and then normalized using **z-score** by channels. Afterwards, it will separated into **12.8 ms** windows that will be the input for the CNN. By default, these windows will have an **overlapping of 6.4 ms** between them. Overlapping can be avoided by setting the *overlapping* variable to *False*."
   ]
  },
  {
   "cell_type": "code",
   "execution_count": null,
   "id": "56d13c49",
   "metadata": {},
   "outputs": [],
   "source": [
    "from load_data import z_score_normalization, downsample_data\n",
    "# Downsample data\n",
    "downsampled_fs = 1250\n",
    "print(\"Downsampling data from %d Hz to %d Hz...\"%(fs, downsampled_fs), end=\" \")\n",
    "data = downsample_data(loaded_data, fs, downsampled_fs)\n",
    "print(\"Done!\")\n",
    "\n",
    "# Normalize it with z-score\n",
    "print(\"Normalizing data...\", end=\" \")\n",
    "data = z_score_normalization(data)\n",
    "print(\"Done!\")\n",
    "\n",
    "print(\"Shape of loaded data after downsampling and z-score: \", np.shape(data))"
   ]
  },
  {
   "cell_type": "code",
   "execution_count": null,
   "id": "e4b04658",
   "metadata": {},
   "outputs": [],
   "source": [
    "overlapping = True\n",
    "window_size = 0.0128\n",
    "\n",
    "print(\"Generating windows...\", end=\" \")\n",
    "if overlapping:\n",
    "    from load_data import generate_overlapping_windows\n",
    "    \n",
    "    stride = 0.0064\n",
    "\n",
    "    # Separate the data into 12.8ms windows with 6.4ms overlapping\n",
    "    X = generate_overlapping_windows(data, window_size, stride, downsampled_fs)\n",
    "else:\n",
    "    stride = window_size\n",
    "    X = np.expand_dims(data, 0)\n",
    "print(\"Done!\")"
   ]
  },
  {
   "cell_type": "markdown",
   "id": "21292635",
   "metadata": {},
   "source": [
    "## Load trained CNN model"
   ]
  },
  {
   "cell_type": "code",
   "execution_count": null,
   "id": "5c2488b7",
   "metadata": {},
   "outputs": [],
   "source": [
    "import tensorflow.keras.backend as K\n",
    "import tensorflow.keras as kr\n",
    "\n",
    "print(\"Loading CNN model...\", end=\" \")\n",
    "optimizer = kr.optimizers.Adam(learning_rate=0.001, beta_1=0.9, beta_2=0.999, epsilon=1e-07, amsgrad=False)\n",
    "model = kr.models.load_model(\"../../model\", compile=False)\n",
    "model.compile(loss=\"binary_crossentropy\", optimizer=optimizer)\n",
    "\n",
    "print(\"Done!\")"
   ]
  },
  {
   "cell_type": "markdown",
   "id": "f0e85e2c",
   "metadata": {},
   "source": [
    "## Detecting ripples with CNN model\n",
    "\n",
    "The CNN will make a prediction for every window. This consists in a **number between 0 and 1**, representing the **probability** of a ripple being in that window according to the CNN."
   ]
  },
  {
   "cell_type": "code",
   "execution_count": null,
   "id": "49e688f3",
   "metadata": {},
   "outputs": [],
   "source": [
    "print(\"Detecting ripples...\", end=\" \")\n",
    "predictions = model.predict(X, verbose=True)\n",
    "print(\"Done!\")"
   ]
  },
  {
   "cell_type": "markdown",
   "id": "f60e5b8e",
   "metadata": {},
   "source": [
    "### Get detected ripples and times\n",
    "\n",
    "Gets the detected ripples times, both in seconds and in indexes of the downsampled data array. The resulting times are a 2D numpy array with dimensions **(Number of detections x 2)**, having the starting and ending times for each detection.\n",
    "\n",
    "It will consider as a ripple detection all those windows whose associated probability is **over a given threshold**. This threshold can be changed by the user and can vary from one session to another. With a high threshold it will consider only those events that the CNN strongly believes to be ripples, but some other may be left aside. A lower threshold will capture more events, but maybe some of them will not be really ripples."
   ]
  },
  {
   "cell_type": "code",
   "execution_count": null,
   "id": "6510db6b",
   "metadata": {},
   "outputs": [],
   "source": [
    "from format_predictions import get_predictions_indexes\n",
    "\n",
    "# This threshold can be changed\n",
    "threshold = 0.7\n",
    "\n",
    "print(\"Getting detected ripples indexes and times...\", end=\" \")\n",
    "pred_indexes = get_predictions_indexes(data, predictions, window_size=window_size, stride=stride, fs=downsampled_fs, threshold=threshold)\n",
    "\n",
    "pred_times = pred_indexes / downsampled_fs\n",
    "print(\"Done!\")"
   ]
  },
  {
   "cell_type": "markdown",
   "id": "bedfd913",
   "metadata": {},
   "source": [
    "### Plot ripple detections\n",
    "\n",
    "This is an interactive plot of the loaded data, where detected ripples are shown in blue. Data is displayed in chunks of 1 seconds and you can **move forward, backwards or jump to an specific second** using the control bar at the bottom."
   ]
  },
  {
   "cell_type": "code",
   "execution_count": null,
   "id": "38db6033",
   "metadata": {
    "scrolled": false
   },
   "outputs": [],
   "source": [
    "%matplotlib widget\n",
    "from ipywidgets import interact, Layout\n",
    "import ipywidgets as widgets\n",
    "import numpy as np\n",
    "import matplotlib.pyplot as plt\n",
    "import matplotlib.ticker as mticker\n",
    "\n",
    "k = 0\n",
    "data_size = data.shape[0]\n",
    "data_dur = data_size / downsampled_fs\n",
    "ini_idx = int(k * downsampled_fs)\n",
    "end_idx = np.minimum(int((k+1) * downsampled_fs), data_size-1)\n",
    "times = np.arange(data_size) / downsampled_fs\n",
    "\n",
    "pos_mat = list(range(data.shape[1]-1, -1, -1)) * np.ones((end_idx-ini_idx, data.shape[1]))\n",
    "\n",
    "fig = plt.figure(figsize=(9.75,5))\n",
    "ax = fig.add_subplot(1, 1, 1)\n",
    "ax.set_ylim(-3, 9)\n",
    "ax.margins(x=0)\n",
    "plt.tight_layout()\n",
    "\n",
    "lines = ax.plot(times[ini_idx:end_idx], data[ini_idx:end_idx, :]*1/np.max(data[ini_idx:end_idx, :], axis=0) + pos_mat, color='k', linewidth=1)\n",
    "\n",
    "fills = []\n",
    "for pred in pred_indexes:\n",
    "    if (pred[0] >= ini_idx and pred[0] <= end_idx) or (pred[1] >= ini_idx and pred[1] <= end_idx):\n",
    "        rip_ini = (pred[0] - ini_idx) / downsampled_fs\n",
    "        rip_end = (pred[1] - ini_idx) / downsampled_fs\n",
    "        fill = ax.fill_between([rip_ini, rip_end], [-3, -3], [9, 9], color=\"tab:blue\", alpha=0.3)\n",
    "        fills.append(fill)\n",
    "\n",
    "\n",
    "def update(k=0):\n",
    "    ini_idx = int(k * downsampled_fs)\n",
    "    end_idx = np.minimum(int((k+1) * downsampled_fs), data_size-1)\n",
    "\n",
    "    label_format = '{:,.1f}'\n",
    "    ax.xaxis.set_major_locator(mticker.MaxNLocator(6))\n",
    "    x_ticks = ax.get_xticks().tolist()\n",
    "    ax.xaxis.set_major_locator(mticker.FixedLocator(x_ticks))\n",
    "    ax.set_xticklabels([label_format.format(x+k) for x in x_ticks])\n",
    "    \n",
    "    for i in range(len(lines)):\n",
    "        #lines[i].set_xdata(times[ini_idx:end_idx])\n",
    "        lines[i].set_ydata(data[ini_idx:end_idx, i]*1/np.max(data[ini_idx:end_idx, i], axis=0) + pos_mat[:,i])\n",
    "\n",
    "    for fill in fills:\n",
    "        fill.remove()\n",
    "    \n",
    "    fills.clear()\n",
    "    for pred in pred_indexes:\n",
    "        if (pred[0] >= ini_idx and pred[0] <= end_idx) or (pred[1] >= ini_idx and pred[1] <= end_idx):\n",
    "            rip_ini = (pred[0] - ini_idx) / downsampled_fs\n",
    "            rip_end = (pred[1] - ini_idx) / downsampled_fs\n",
    "            fill = ax.fill_between([rip_ini, rip_end], [-3, -3], [9, 9], color=\"tab:blue\", alpha=0.3)\n",
    "            fills.append(fill)\n",
    "    \n",
    "    fig.canvas.draw_idle()\n",
    "\n",
    "interact(update, k = widgets.BoundedIntText(value=17, min=0, max=data_dur, step=1, description=\"Second:\", layout=Layout(width='900px')));"
   ]
  }
 ],
 "metadata": {
  "kernelspec": {
   "display_name": "Python [conda env:cnn-ripple] *",
   "language": "python",
   "name": "conda-env-cnn-ripple-py"
  },
  "language_info": {
   "codemirror_mode": {
    "name": "ipython",
    "version": 3
   },
   "file_extension": ".py",
   "mimetype": "text/x-python",
   "name": "python",
   "nbconvert_exporter": "python",
   "pygments_lexer": "ipython3",
   "version": "3.7.9"
  }
 },
 "nbformat": 4,
 "nbformat_minor": 5
}
