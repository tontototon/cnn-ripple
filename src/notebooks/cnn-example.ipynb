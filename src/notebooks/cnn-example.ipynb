{
 "cells": [
  {
   "cell_type": "markdown",
   "id": "2ae40c2e",
   "metadata": {},
   "source": [
    "# CNN example\n",
    "\n",
    "Some code to show how the CNN finds ripples."
   ]
  },
  {
   "cell_type": "code",
   "execution_count": 1,
   "id": "9576a607",
   "metadata": {},
   "outputs": [],
   "source": [
    "# Imports\n",
    "import sys\n",
    "import numpy as np\n",
    "\n",
    "sys.path.insert(1, '../cnn/')"
   ]
  },
  {
   "cell_type": "markdown",
   "id": "9114ff39",
   "metadata": {},
   "source": [
    "## Load data"
   ]
  },
  {
   "cell_type": "code",
   "execution_count": 2,
   "id": "ef0688bc",
   "metadata": {},
   "outputs": [
    {
     "name": "stdout",
     "output_type": "stream",
     "text": [
      "Shape of loaded data after downsampling:  (1276672, 8)\n"
     ]
    }
   ],
   "source": [
    "from load_data import load_data, z_score_normalization\n",
    "downsampled_fs = 1250\n",
    "\n",
    "# Load data and downsample it to 1250 Hz\n",
    "data = load_data(path=\"../../data/2021-02-12_12-46-54\", shank=4, downsampled_fs=downsampled_fs)\n",
    "\n",
    "print(\"Shape of loaded data after downsampling: \", np.shape(data))\n",
    "\n",
    "# Normalize it with z-score\n",
    "data = z_score_normalization(data)"
   ]
  },
  {
   "cell_type": "code",
   "execution_count": null,
   "id": "9684bcbb",
   "metadata": {},
   "outputs": [],
   "source": [
    "data = np.expand_dims(data, 0)\n",
    "print(\"Shape of data to be used for prediction: \", np.shape(data))"
   ]
  },
  {
   "cell_type": "markdown",
   "id": "21292635",
   "metadata": {},
   "source": [
    "## Load trained CNN model"
   ]
  },
  {
   "cell_type": "code",
   "execution_count": null,
   "id": "5c2488b7",
   "metadata": {},
   "outputs": [],
   "source": [
    "import tensorflow.keras.backend as K\n",
    "import tensorflow.keras as kr\n",
    "\n",
    "optimizer = kr.optimizers.Adam(learning_rate=0.001, beta_1=0.9, beta_2=0.999, epsilon=1e-07, amsgrad=False)\n",
    "model = kr.models.load_model(\"../../model\", compile=False)\n",
    "model.compile(loss=\"binary_crossentropy\", optimizer=optimizer)\n",
    "model.summary()"
   ]
  },
  {
   "cell_type": "markdown",
   "id": "f0e85e2c",
   "metadata": {},
   "source": [
    "## Make predictions with model"
   ]
  },
  {
   "cell_type": "code",
   "execution_count": null,
   "id": "49e688f3",
   "metadata": {},
   "outputs": [],
   "source": [
    "predictions = model.predict(data, verbose=True)[0]"
   ]
  },
  {
   "cell_type": "markdown",
   "id": "f60e5b8e",
   "metadata": {},
   "source": [
    "### Get predicted ripples times"
   ]
  },
  {
   "cell_type": "code",
   "execution_count": null,
   "id": "6510db6b",
   "metadata": {},
   "outputs": [],
   "source": [
    "from format_predictions import get_predictions_indexes\n",
    "\n",
    "pred_indexes = get_predictions_indexes(data, predictions, window_size=0.0128, fs=1250, threshold=0.5)"
   ]
  },
  {
   "cell_type": "code",
   "execution_count": null,
   "id": "38db6033",
   "metadata": {
    "scrolled": false
   },
   "outputs": [],
   "source": [
    "%matplotlib notebook\n",
    "from ipywidgets import interact, Layout\n",
    "import ipywidgets as widgets\n",
    "import numpy as np\n",
    "import matplotlib.pyplot as plt\n",
    "import matplotlib.ticker as mticker\n",
    "\n",
    "k = 0\n",
    "data_size = data.shape[1]\n",
    "data_dur = data_size / downsampled_fs\n",
    "ini_idx = int(k * downsampled_fs)\n",
    "end_idx = np.minimum(int((k+1) * downsampled_fs), data_size-1)\n",
    "times = np.arange(data_size) / downsampled_fs\n",
    "\n",
    "pos_mat = list(range(data[0].shape[1]-1, -1, -1)) * np.ones((end_idx-ini_idx, data[0].shape[1]))\n",
    "\n",
    "fig = plt.figure(figsize=(9.5,5))\n",
    "ax = fig.add_subplot(1, 1, 1)\n",
    "ax.set_ylim(-3, 9)\n",
    "ax.margins(x=0)\n",
    "plt.tight_layout()\n",
    "\n",
    "lines = ax.plot(times[ini_idx:end_idx], data[0, ini_idx:end_idx, :]*1.5/np.max(data[0, ini_idx:end_idx, :], axis=0) + pos_mat, color='k', linewidth=1)\n",
    "\n",
    "fills = []\n",
    "for pred in pred_indexes:\n",
    "    if (pred[0] >= ini_idx and pred[0] <= end_idx) or (pred[1] >= ini_idx and pred[1] <= end_idx):\n",
    "        rip_ini = pred[0]\n",
    "        rip_end = pred[1]\n",
    "        fill = ax.fill_between([rip_ini, rip_end], [-3, -3], [9, 9], color=\"tab:blue\", alpha=0.3)\n",
    "        fills.append(fill)\n",
    "\n",
    "\n",
    "def update(k=0):\n",
    "    ini_idx = int(k * downsampled_fs)\n",
    "    end_idx = np.minimum(int((k+1) * downsampled_fs), data_size-1)\n",
    "\n",
    "    label_format = '{:,.1f}'\n",
    "    ax.xaxis.set_major_locator(mticker.MaxNLocator(6))\n",
    "    x_ticks = ax.get_xticks().tolist()\n",
    "    ax.xaxis.set_major_locator(mticker.FixedLocator(x_ticks))\n",
    "    ax.set_xticklabels([label_format.format(x+k) for x in x_ticks])\n",
    "    \n",
    "    for i in range(len(lines)):\n",
    "        #lines[i].set_xdata(times[ini_idx:end_idx])\n",
    "        lines[i].set_ydata(data[0, ini_idx:end_idx, i]*1.5/np.max(data[0, ini_idx:end_idx, i], axis=0) + pos_mat[:,i])\n",
    "\n",
    "    for fill in fills:\n",
    "        fill.remove()\n",
    "    \n",
    "    fills.clear()\n",
    "    for pred in pred_indexes:\n",
    "        if (pred[0] >= ini_idx and pred[0] <= end_idx) or (pred[1] >= ini_idx and pred[1] <= end_idx):\n",
    "            rip_ini = (pred[0] - ini_idx) / downsampled_fs\n",
    "            rip_end = (pred[1] - ini_idx) / downsampled_fs\n",
    "            fill = ax.fill_between([rip_ini, rip_end], [-3, -3], [9, 9], color=\"tab:blue\", alpha=0.3)\n",
    "            fills.append(fill)\n",
    "    \n",
    "    fig.canvas.draw_idle()\n",
    "\n",
    "interact(update, k = widgets.BoundedIntText(value=0, min=0, max=data_dur, step=1, description=\"Second:\", layout=Layout(width='900px')));"
   ]
  },
  {
   "cell_type": "code",
   "execution_count": null,
   "id": "aba6f959",
   "metadata": {},
   "outputs": [],
   "source": []
  },
  {
   "cell_type": "code",
   "execution_count": null,
   "id": "667a35ff",
   "metadata": {},
   "outputs": [],
   "source": []
  }
 ],
 "metadata": {
  "kernelspec": {
   "display_name": "Python 3",
   "language": "python",
   "name": "python3"
  },
  "language_info": {
   "codemirror_mode": {
    "name": "ipython",
    "version": 3
   },
   "file_extension": ".py",
   "mimetype": "text/x-python",
   "name": "python",
   "nbconvert_exporter": "python",
   "pygments_lexer": "ipython3",
   "version": "3.7.9"
  }
 },
 "nbformat": 4,
 "nbformat_minor": 5
}
